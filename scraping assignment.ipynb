{
 "cells": [
  {
   "cell_type": "code",
   "execution_count": 133,
   "id": "ebb55514",
   "metadata": {},
   "outputs": [],
   "source": [
    "import requests\n",
    "from bs4 import BeautifulSoup\n",
    "import pandas as pd\n",
    "from selenium import webdriver\n",
    "from selenium.webdriver.chrome.options import Options\n",
    "from selenium.webdriver.common.action_chains import ActionChains\n",
    "import time"
   ]
  },
  {
   "cell_type": "code",
   "execution_count": 305,
   "id": "e50ddf7c",
   "metadata": {},
   "outputs": [],
   "source": [
    "opts=Options()"
   ]
  },
  {
   "cell_type": "code",
   "execution_count": 306,
   "id": "c6cea2b8",
   "metadata": {},
   "outputs": [],
   "source": [
    "driver = webdriver.Chrome(options=opts,executable_path=r\"C:\\Users\\Deborishi\\Downloads\\chromedriver.exe\")"
   ]
  },
  {
   "cell_type": "code",
   "execution_count": 307,
   "id": "6e4f7b2d",
   "metadata": {},
   "outputs": [],
   "source": [
    "url='https://www.propertiesguru.com/residential-search/2bhk-residential_apartment_flat-for-sale-in-new_delhi'"
   ]
  },
  {
   "cell_type": "code",
   "execution_count": 308,
   "id": "c90f4cfa",
   "metadata": {},
   "outputs": [],
   "source": [
    "driver.get(url)"
   ]
  },
  {
   "cell_type": "markdown",
   "id": "0a462e0c",
   "metadata": {},
   "source": [
    "## Function to infinite load the page"
   ]
  },
  {
   "cell_type": "code",
   "execution_count": 309,
   "id": "fad23613",
   "metadata": {},
   "outputs": [],
   "source": [
    "def page():    \n",
    "    time.sleep(2)\n",
    "    scroll_pause_time=1\n",
    "    screen_height = driver.execute_script(\"return window.screen.height;\")\n",
    "    i=1\n",
    "    while True:\n",
    "        driver.execute_script(\"window.scrollTo(0, {screen_height}*{i});\".format(screen_height=screen_height,i=i))\n",
    "        i+=1\n",
    "        time.sleep(scroll_pause_time)\n",
    "        scroll_height=driver.execute_script(\"return document.body.scrollHeight;\")\n",
    "        if (screen_height)*i>scroll_height:\n",
    "            break\n",
    "    soup=BeautifulSoup(driver.page_source,\"html.parser\")\n",
    "    title=soup.find_all('div', class_='filter-property-list detailurl')\n",
    "    return title"
   ]
  },
  {
   "cell_type": "markdown",
   "id": "4bfe20a7",
   "metadata": {},
   "source": [
    "## Function to select the 3 and 4 specifically numbered BHK flats"
   ]
  },
  {
   "cell_type": "code",
   "execution_count": 178,
   "id": "843a76b9",
   "metadata": {},
   "outputs": [],
   "source": [
    "def third_fourth():\n",
    "    #to uncheck 2bhk properties\n",
    "    two=driver.find_element_by_xpath('//*[@id=\"2\"]')\n",
    "    #to check 3bhk properties\n",
    "    three=driver.find_element_by_xpath('//*[@id=\"3\"]')\n",
    "    #to check 4bhk properties\n",
    "    four=driver.find_element_by_xpath('//*[@id=\"4\"]')\n",
    "    driver.implicitly_wait(10)\n",
    "    #perform the click part\n",
    "    ActionChains(driver).move_to_element(two).click(two).perform()\n",
    "    ActionChains(driver).move_to_element(three).click(three).perform()\n",
    "    ActionChains(driver).move_to_element(four).click(four).perform()"
   ]
  },
  {
   "cell_type": "code",
   "execution_count": 179,
   "id": "a5362580",
   "metadata": {},
   "outputs": [],
   "source": [
    "third_fourth()"
   ]
  },
  {
   "cell_type": "code",
   "execution_count": 312,
   "id": "d2078d1a",
   "metadata": {},
   "outputs": [],
   "source": [
    "a=page()"
   ]
  },
  {
   "cell_type": "markdown",
   "id": "a73eb6e2",
   "metadata": {},
   "source": [
    "## Function to prepare the data"
   ]
  },
  {
   "cell_type": "code",
   "execution_count": 318,
   "id": "f13b4309",
   "metadata": {},
   "outputs": [],
   "source": [
    "def dat_prep(a):    \n",
    "    flats=[]\n",
    "    price=[]\n",
    "    area=[]\n",
    "    facing=[]\n",
    "    status=[]\n",
    "    feature1=[]\n",
    "    feature2=[]\n",
    "    feature3=[]\n",
    "    feature4=[]\n",
    "    owner=[]\n",
    "    when_posted=[]\n",
    "    for each in a:\n",
    "        flats.append(each.find_all('h1', class_='filter-pro-heading')[0].text)\n",
    "        price.append(each.find_all('span',class_='price')[0].text)\n",
    "        area.append(each.find_all('div',class_='col-4')[0].text)\n",
    "        facing.append(each.find_all('div',class_='col-3')[1].text)\n",
    "        status.append(each.find_all('div',class_='col-5')[0].text)\n",
    "        re=each.find_all('ul',class_='pro-list')\n",
    "        li=re[0].find_all('li')\n",
    "        feature1.append(li[0].text)\n",
    "        feature2.append(li[1].text)\n",
    "        feature3.append(li[2].text)\n",
    "        feature4.append(li[3].text)\n",
    "        owner.append(each.find_all('span',class_='owner-name')[0].text)\n",
    "        when_posted.append(each.find_all('span',class_='owner-post')[0].text)    \n",
    "    return flats,price,area,facing,status,feature1,feature2,feature3,feature4,owner,when_posted\n",
    "flats,price,area,facing,status,feature1,feature2,feature3,feature4,owner,when_posted=dat_prep(a)"
   ]
  },
  {
   "cell_type": "code",
   "execution_count": 315,
   "id": "b89df47a",
   "metadata": {},
   "outputs": [],
   "source": [
    "url_page=pd.DataFrame({'Flat type and location': flats,'price':price,'area':area,'side-facing':facing,'status':status,'feature 1':feature1,'feature 2':feature2,'feature 3':feature3,'feature 4':feature4,'owner':owner,'date posted':when_posted})"
   ]
  },
  {
   "cell_type": "code",
   "execution_count": 317,
   "id": "a8a26643",
   "metadata": {},
   "outputs": [],
   "source": [
    "url_page.to_csv('initial page with bhk details.csv')"
   ]
  }
 ],
 "metadata": {
  "hide_input": false,
  "kernelspec": {
   "display_name": "Python 3",
   "language": "python",
   "name": "python3"
  },
  "language_info": {
   "codemirror_mode": {
    "name": "ipython",
    "version": 3
   },
   "file_extension": ".py",
   "mimetype": "text/x-python",
   "name": "python",
   "nbconvert_exporter": "python",
   "pygments_lexer": "ipython3",
   "version": "3.7.4"
  }
 },
 "nbformat": 4,
 "nbformat_minor": 5
}
